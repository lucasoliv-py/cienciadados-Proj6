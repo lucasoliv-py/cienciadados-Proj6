{
 "cells": [
  {
   "cell_type": "markdown",
   "id": "1cd35342-ed7e-43c5-ac67-e85ee617f541",
   "metadata": {},
   "source": [
    "# Módulo proc\n",
    "\n",
    "A página onde será testada é:\n",
    "     [pagina de teste](http://pythonscraping.com/pages/page1.html)"
   ]
  },
  {
   "cell_type": "markdown",
   "id": "46612622-7f9a-4e83-930a-0777e8c2bbc8",
   "metadata": {},
   "source": [
    "## Função leitor_web(endereco: str) -> str"
   ]
  },
  {
   "cell_type": "code",
   "execution_count": 10,
   "id": "36728346-38f0-491a-b0ed-8816f0422168",
   "metadata": {},
   "outputs": [],
   "source": [
    "# Função leitor_web\n",
    "\n",
    "import requests\n",
    "def leitor_web(endereco_web: str) -> str:\n",
    "    pagina = requests.get(endereco_web)\n",
    "    return pagina.text\n"
   ]
  },
  {
   "cell_type": "code",
   "execution_count": 20,
   "id": "45b542b1-a1cc-46b8-b1db-e036d9054784",
   "metadata": {},
   "outputs": [
    {
     "name": "stdout",
     "output_type": "stream",
     "text": [
      "<html>\n",
      "<head>\n",
      "<title>A Useful Page</title>\n",
      "</head>\n",
      "<body>\n",
      "<h1>An Interesting Title</h1>\n",
      "<div>\n",
      "Lorem ipsum dolor sit amet, consectetur adipisicing elit, sed do eiusmod tempor incididunt ut labore et dolore magna aliqua. Ut enim ad minim veniam, quis nostrud exercitation ullamco laboris nisi ut aliquip ex ea commodo consequat. Duis aute irure dolor in reprehenderit in voluptate velit esse cillum dolore eu fugiat nulla pariatur. Excepteur sint occaecat cupidatat non proident, sunt in culpa qui officia deserunt mollit anim id est laborum.\n",
      "</div>\n",
      "</body>\n",
      "</html>\n",
      "\n"
     ]
    }
   ],
   "source": [
    "pagina1 = leitor_web(\"https://pythonscraping.com/pages/page1.html\")\n",
    "\n",
    "print(pagina1)"
   ]
  },
  {
   "cell_type": "markdown",
   "id": "cbee4abd-4a24-4bd7-9a90-248c3e6050f7",
   "metadata": {},
   "source": [
    "# Função extrator(pagina_web: str, tag: str) -> str:"
   ]
  },
  {
   "cell_type": "code",
   "execution_count": 38,
   "id": "48e72d21-a6ba-46b6-a17c-56cef89bfba6",
   "metadata": {},
   "outputs": [],
   "source": [
    "# Função extrator(pagina_web: str, tag: str) -> str\n",
    "\n",
    "from bs4 import BeautifulSoup\n",
    "def extrator(pagina_web: str, tag: str) -> str:\n",
    "    pass"
   ]
  },
  {
   "cell_type": "code",
   "execution_count": 53,
   "id": "b78ad837-c302-4375-8ca7-40f415f50aa3",
   "metadata": {},
   "outputs": [],
   "source": [
    "soup = BeautifulSoup(pagina1, 'html.parser')"
   ]
  },
  {
   "cell_type": "code",
   "execution_count": 54,
   "id": "c2f2e181-c92d-4b30-b0c5-7a987b85f1f8",
   "metadata": {},
   "outputs": [
    {
     "name": "stdout",
     "output_type": "stream",
     "text": [
      "<html>\n",
      " <head>\n",
      "  <title>\n",
      "   A Useful Page\n",
      "  </title>\n",
      " </head>\n",
      " <body>\n",
      "  <h1>\n",
      "   An Interesting Title\n",
      "  </h1>\n",
      "  <div>\n",
      "   Lorem ipsum dolor sit amet, consectetur adipisicing elit, sed do eiusmod tempor incididunt ut labore et dolore magna aliqua. Ut enim ad minim veniam, quis nostrud exercitation ullamco laboris nisi ut aliquip ex ea commodo consequat. Duis aute irure dolor in reprehenderit in voluptate velit esse cillum dolore eu fugiat nulla pariatur. Excepteur sint occaecat cupidatat non proident, sunt in culpa qui officia deserunt mollit anim id est laborum.\n",
      "  </div>\n",
      " </body>\n",
      "</html>\n",
      "\n"
     ]
    }
   ],
   "source": [
    "print(soup.prettify())"
   ]
  },
  {
   "cell_type": "code",
   "execution_count": 15,
   "id": "c6642906-acee-446e-8de8-d20495ae6efe",
   "metadata": {},
   "outputs": [
    {
     "name": "stdout",
     "output_type": "stream",
     "text": [
      "<title>A Useful Page</title>\n"
     ]
    }
   ],
   "source": [
    "print(soup.title)"
   ]
  },
  {
   "cell_type": "code",
   "execution_count": 16,
   "id": "be0a09e6-dbc0-44f9-a4f4-650d7b716b18",
   "metadata": {},
   "outputs": [
    {
     "name": "stdout",
     "output_type": "stream",
     "text": [
      "None\n"
     ]
    }
   ],
   "source": [
    "print(soup.p)"
   ]
  },
  {
   "cell_type": "code",
   "execution_count": 17,
   "id": "1f938f2b-2363-46ff-a721-2615a94962c2",
   "metadata": {},
   "outputs": [
    {
     "name": "stdout",
     "output_type": "stream",
     "text": [
      "<body>\n",
      "<h1>An Interesting Title</h1>\n",
      "<div>\n",
      "Lorem ipsum dolor sit amet, consectetur adipisicing elit, sed do eiusmod tempor incididunt ut labore et dolore magna aliqua. Ut enim ad minim veniam, quis nostrud exercitation ullamco laboris nisi ut aliquip ex ea commodo consequat. Duis aute irure dolor in reprehenderit in voluptate velit esse cillum dolore eu fugiat nulla pariatur. Excepteur sint occaecat cupidatat non proident, sunt in culpa qui officia deserunt mollit anim id est laborum.\n",
      "</div>\n",
      "</body>\n"
     ]
    }
   ],
   "source": [
    "print(soup.body)"
   ]
  },
  {
   "cell_type": "code",
   "execution_count": 62,
   "id": "ec1ed3ed-a4ed-4c33-9ece-8a4f890ea68d",
   "metadata": {},
   "outputs": [],
   "source": [
    "from bs4 import BeautifulSoup\n",
    "def extrator(pagina_web: str, tag: str) -> BeautifulSoup:\n",
    "    soup = BeautifulSoup(pagina_web, 'html.parser')\n",
    "    return soup.find(tag)"
   ]
  },
  {
   "cell_type": "code",
   "execution_count": 63,
   "id": "508afefe-fe58-4c91-9e46-2934fee8cb97",
   "metadata": {},
   "outputs": [
    {
     "name": "stdout",
     "output_type": "stream",
     "text": [
      "<title>A Useful Page</title>\n"
     ]
    }
   ],
   "source": [
    "a = extrator(pagina1, \"title\")\n",
    "print(a)"
   ]
  },
  {
   "cell_type": "code",
   "execution_count": 64,
   "id": "48fadad6-c73a-4e89-8b39-4160456dd83e",
   "metadata": {},
   "outputs": [
    {
     "name": "stdout",
     "output_type": "stream",
     "text": [
      "<div>\n",
      "Lorem ipsum dolor sit amet, consectetur adipisicing elit, sed do eiusmod tempor incididunt ut labore et dolore magna aliqua. Ut enim ad minim veniam, quis nostrud exercitation ullamco laboris nisi ut aliquip ex ea commodo consequat. Duis aute irure dolor in reprehenderit in voluptate velit esse cillum dolore eu fugiat nulla pariatur. Excepteur sint occaecat cupidatat non proident, sunt in culpa qui officia deserunt mollit anim id est laborum.\n",
      "</div>\n"
     ]
    }
   ],
   "source": [
    "b = extrator(pagina1, \"div\")\n",
    "print(b)"
   ]
  },
  {
   "cell_type": "code",
   "execution_count": 66,
   "id": "121278ef-2ab6-4ec1-8838-be0b2e8f7cea",
   "metadata": {},
   "outputs": [
    {
     "name": "stdout",
     "output_type": "stream",
     "text": [
      "<h1>An Interesting Title</h1>\n"
     ]
    }
   ],
   "source": [
    "c = extrator(pagina1, \"h1\")\n",
    "print(c)"
   ]
  },
  {
   "cell_type": "code",
   "execution_count": 67,
   "id": "8d92b384-0605-49d1-b1a8-bca22644d5f3",
   "metadata": {},
   "outputs": [
    {
     "name": "stdout",
     "output_type": "stream",
     "text": [
      "<head>\n",
      "<title>A Useful Page</title>\n",
      "</head>\n"
     ]
    }
   ],
   "source": [
    "d = extrator(pagina1, \"head\")\n",
    "print(d)"
   ]
  },
  {
   "cell_type": "code",
   "execution_count": 68,
   "id": "e68a18c6-9952-48de-a67b-8fb56d87ecc8",
   "metadata": {},
   "outputs": [
    {
     "name": "stdout",
     "output_type": "stream",
     "text": [
      "<html>\n",
      "<head>\n",
      "<title>A Useful Page</title>\n",
      "</head>\n",
      "<body>\n",
      "<h1>An Interesting Title</h1>\n",
      "<div>\n",
      "Lorem ipsum dolor sit amet, consectetur adipisicing elit, sed do eiusmod tempor incididunt ut labore et dolore magna aliqua. Ut enim ad minim veniam, quis nostrud exercitation ullamco laboris nisi ut aliquip ex ea commodo consequat. Duis aute irure dolor in reprehenderit in voluptate velit esse cillum dolore eu fugiat nulla pariatur. Excepteur sint occaecat cupidatat non proident, sunt in culpa qui officia deserunt mollit anim id est laborum.\n",
      "</div>\n",
      "</body>\n",
      "</html>\n"
     ]
    }
   ],
   "source": [
    "e = extrator(pagina1, \"html\")\n",
    "print(e)"
   ]
  },
  {
   "cell_type": "code",
   "execution_count": null,
   "id": "87c269f2-cd50-41d6-af77-ac4d73958873",
   "metadata": {},
   "outputs": [],
   "source": []
  }
 ],
 "metadata": {
  "kernelspec": {
   "display_name": "Python 3 (ipykernel)",
   "language": "python",
   "name": "python3"
  },
  "language_info": {
   "codemirror_mode": {
    "name": "ipython",
    "version": 3
   },
   "file_extension": ".py",
   "mimetype": "text/x-python",
   "name": "python",
   "nbconvert_exporter": "python",
   "pygments_lexer": "ipython3",
   "version": "3.10.9"
  }
 },
 "nbformat": 4,
 "nbformat_minor": 5
}
